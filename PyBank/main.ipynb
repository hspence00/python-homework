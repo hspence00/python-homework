{
 "cells": [
  {
   "cell_type": "code",
   "execution_count": null,
   "id": "e6f36e2f-ae0d-4781-ac71-71d90c44e8ea",
   "metadata": {},
   "outputs": [],
   "source": [
    "#create path for csv file\n",
    "from pathlib import Path\n",
    "import csv\n",
    "csvpath = Path('budget_data.csv')"
   ]
  },
  {
   "cell_type": "code",
   "execution_count": null,
   "id": "79a645d6-a963-4c8b-8f82-9b78f69eec72",
   "metadata": {},
   "outputs": [],
   "source": [
    "#create variables\n",
    "months = 0\n",
    "diff = 0\n",
    "diff_max = 0\n",
    "diff_min = 0\n",
    "total = 0\n",
    "pre_value = 0"
   ]
  },
  {
   "cell_type": "code",
   "execution_count": null,
   "id": "cd98dbec-63de-4fac-aacf-389ea0bf4108",
   "metadata": {},
   "outputs": [],
   "source": [
    "# open csv file\n",
    "with open(csvpath, newline='') as csvfile:\n",
    "     csvreader = csv.reader(csvfile, delimiter=',')\n",
    "     csv_header = next(csvreader)\n",
    "    \n",
    "    # Create conditional statements\n",
    "     for x in csvreader:\n",
    "         month = x[0]\n",
    "         Amount = x[1]\n",
    "         iAmount = int(Amount)\n",
    "         diff =  iAmount - pre_value\n",
    "         # find total months\n",
    "         months = months + 1\n",
    "         total += int(Amount) \n",
    "        \n",
    "        # find greatest increase\n",
    "         if diff_max < diff:\n",
    "            diff_max = diff\n",
    "            diff_max_date = month\n",
    "         # find greatest decrease\n",
    "         if diff_min > diff:\n",
    "            diff_min = diff\n",
    "            diff_min_date = month\n",
    "\n",
    "         pre_value = iAmount   "
   ]
  },
  {
   "cell_type": "code",
   "execution_count": null,
   "id": "d3993548-ec65-4056-8b8b-96a7b3282cd6",
   "metadata": {},
   "outputs": [],
   "source": [
    "# create analysis format\n",
    "print(f'Financial Analysis')\n",
    "print(f'----------------------------')\n",
    "print(f'Total Months: {months}')\n",
    "print(f'Total: ${total}')\n",
    "print(f'Greatest Increase in Profits: {Diff_Max_Date} : (${Diff_Max})')\n",
    "print(f'Greatest Decrease in Profits: {Diff_Min_Date} : (${Diff_Min})')"
   ]
  },
  {
   "cell_type": "code",
   "execution_count": null,
   "id": "cf7b3f3d-62fa-4d8d-af88-ea34986e9f1b",
   "metadata": {},
   "outputs": [],
   "source": []
  }
 ],
 "metadata": {
  "kernelspec": {
   "display_name": "Python 3",
   "language": "python",
   "name": "python3"
  },
  "language_info": {
   "codemirror_mode": {
    "name": "ipython",
    "version": 3
   },
   "file_extension": ".py",
   "mimetype": "text/x-python",
   "name": "python",
   "nbconvert_exporter": "python",
   "pygments_lexer": "ipython3",
   "version": "3.7.13"
  }
 },
 "nbformat": 4,
 "nbformat_minor": 5
}
